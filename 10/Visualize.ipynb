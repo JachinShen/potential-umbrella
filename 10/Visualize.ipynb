{
 "cells": [
  {
   "cell_type": "code",
   "execution_count": 1,
   "id": "ba527bb8",
   "metadata": {},
   "outputs": [],
   "source": [
    "import numpy as np\n",
    "import matplotlib.pyplot as plt\n",
    "import expression as ep\n",
    "import group as grp"
   ]
  },
  {
   "cell_type": "code",
   "execution_count": 8,
   "id": "dbad8601",
   "metadata": {},
   "outputs": [
    {
     "name": "stdout",
     "output_type": "stream",
     "text": [
      "384\n"
     ]
    },
    {
     "data": {
      "image/png": "[encoded data removed]",
      "text/plain": [
       "<Figure size 1440x648 with 1 Axes>"
      ]
     },
     "metadata": {
      "needs_background": "light"
     },
     "output_type": "display_data"
    }
   ],
   "source": [
    "def visualize_ep(e):\n",
    "    e = ep.Expr(e)\n",
    "    out = e.get_all_out().reshape(4, 256)\n",
    "    print(out.sum())\n",
    "    plt.figure(figsize=(20, 9))\n",
    "    plt.yticks([])\n",
    "    plt.imshow(out)\n",
    "    plt.show()\n",
    "visualize_ep(\"x5x6+x7x8\")"
   ]
  },
  {
   "cell_type": "code",
   "execution_count": 35,
   "id": "aa67e417",
   "metadata": {},
   "outputs": [],
   "source": [
    "with open(\"cache/half_permutations_8.txt\", \"r\") as txt_file:\n",
    "    str_perm = txt_file.read()\n",
    "list_str_grps = str_perm.split(\"\\n\\n\")\n",
    "list_grps = [len_t.split(\"\\n\") for len_t in list_str_grps]"
   ]
  },
  {
   "cell_type": "code",
   "execution_count": 37,
   "id": "8d480d37",
   "metadata": {},
   "outputs": [
    {
     "name": "stdout",
     "output_type": "stream",
     "text": [
      "zero+x4+x0x2+x1x2+x0x3+x1x3+x4x5x6+x5x6x7\t\n",
      "zero+x5+x0x1+x0x2+x1x3+x2x3+x4x5+x5x6+x4x7+x6x7+x4x6x7+x5x6x7\t\n",
      "zero+x6+x0x2+x1x2+x0x3+x1x3+x4x5x7+x4x6x7\t\n",
      "zero+x7+x0x1+x0x2+x1x3+x2x3+x4x5+x5x6+x4x7+x6x7+x4x5x6+x4x5x7\t\n",
      "zero+x0+x4+x0x1+x1x2+x0x3+x2x3+x4x5+x4x6+x5x7+x6x7+x0x2x3+x1x2x3\t\n",
      "zero+x1+x5+x4x6+x5x6+x4x7+x5x7+x0x1x3+x0x2x3\t\n",
      "zero+x2+x6+x0x1+x1x2+x0x3+x2x3+x4x5+x4x6+x5x7+x6x7+x0x1x2+x0x1x3\t\n",
      "zero+x3+x7+x4x6+x5x6+x4x7+x5x7+x0x1x2+x1x2x3\n"
     ]
    },
    {
     "data": {
      "image/png": "[encoded data removed]",
      "text/plain": [
       "<Figure size 1440x648 with 1 Axes>"
      ]
     },
     "metadata": {
      "needs_background": "light"
     },
     "output_type": "display_data"
    }
   ],
   "source": [
    "def visualize_grp(g):\n",
    "    g = grp.Group(g)\n",
    "    print(g)\n",
    "    out = g.get_all_out()\n",
    "    plt.figure(figsize=(20, 9))\n",
    "    plt.yticks([])\n",
    "    plt.imshow(out)\n",
    "    plt.show()\n",
    "visualize_grp(list_grps[-1])"
   ]
  },
  {
   "cell_type": "code",
   "execution_count": 28,
   "id": "9431fb98",
   "metadata": {},
   "outputs": [
    {
     "name": "stdout",
     "output_type": "stream",
     "text": [
      "zero+x4+x4x5x6+x5x6x7\t\n",
      "zero+x5+x4x6x7+x5x6x7\t\n",
      "zero+x6+x4x6+x5x6+x4x7+x5x7+x4x5x7+x4x6x7\t\n",
      "zero+x7+x4x6+x5x6+x4x7+x5x7+x4x5x6+x4x5x7\t\n",
      "zero+x0+x4+x0x2+x1x2+x0x3+x1x3+x0x2x3+x1x2x3\t\n",
      "zero+x1+x5+x0x2+x1x2+x0x3+x1x3+x0x1x3+x0x2x3\t\n",
      "zero+x2+x6+x0x1x2+x0x1x3\t\n",
      "zero+x3+x7+x0x1x2+x1x2x3\n"
     ]
    },
    {
     "data": {
      "image/png": "[encoded data removed]",
      "text/plain": [
       "<Figure size 1440x648 with 1 Axes>"
      ]
     },
     "metadata": {
      "needs_background": "light"
     },
     "output_type": "display_data"
    }
   ],
   "source": [
    "visualize_grp(list_grps[-2])"
   ]
  },
  {
   "cell_type": "code",
   "execution_count": 29,
   "id": "e28ad553",
   "metadata": {},
   "outputs": [
    {
     "name": "stdout",
     "output_type": "stream",
     "text": [
      "zero+x4+x4x5x6+x5x6x7\t\n",
      "zero+x5+x4x5+x5x6+x4x7+x6x7+x4x6x7+x5x6x7\t\n",
      "zero+x6+x4x5x7+x4x6x7\t\n",
      "zero+x7+x4x5+x5x6+x4x7+x6x7+x4x5x6+x4x5x7\t\n",
      "zero+x0+x4+x0x1+x1x2+x0x3+x2x3+x0x2x3+x1x2x3\t\n",
      "zero+x1+x5+x0x1x3+x0x2x3\t\n",
      "zero+x2+x6+x0x1+x1x2+x0x3+x2x3+x0x1x2+x0x1x3\t\n",
      "zero+x3+x7+x0x1x2+x1x2x3\n"
     ]
    },
    {
     "data": {
      "image/png": "[encoded data removed]",
      "text/plain": [
       "<Figure size 1440x648 with 1 Axes>"
      ]
     },
     "metadata": {
      "needs_background": "light"
     },
     "output_type": "display_data"
    }
   ],
   "source": [
    "visualize_grp(list_grps[-3])"
   ]
  },
  {
   "cell_type": "code",
   "execution_count": 30,
   "id": "af0e548c",
   "metadata": {},
   "outputs": [
    {
     "data": {
      "image/png": "[encoded data removed]",
      "text/plain": [
       "<Figure size 1440x648 with 1 Axes>"
      ]
     },
     "metadata": {
      "needs_background": "light"
     },
     "output_type": "display_data"
    }
   ],
   "source": [
    "visualize_ep(\"x4x5x6+x5x6x7\")"
   ]
  },
  {
   "cell_type": "code",
   "execution_count": 34,
   "id": "85c5ba0e",
   "metadata": {},
   "outputs": [
    {
     "name": "stdout",
     "output_type": "stream",
     "text": [
      "zero+x4+x0x1+x0x2+x1x3+x2x3+x4x5+x4x6+x5x7+x6x7+x4x5x6+x5x6x7\t\n",
      "zero+x5+x0x2+x1x2+x0x3+x1x3+x4x5+x4x6+x5x7+x6x7+x4x6x7+x5x6x7\t\n",
      "zero+x6+x0x1+x0x2+x1x3+x2x3+x4x5+x4x6+x5x7+x6x7+x4x5x7+x4x6x7\t\n",
      "zero+x7+x0x2+x1x2+x0x3+x1x3+x4x5+x4x6+x5x7+x6x7+x4x5x6+x4x5x7\t\n",
      "zero+x0+x4+x0x1+x0x2+x1x3+x2x3+x4x6+x5x6+x4x7+x5x7+x0x2x3+x1x2x3\t\n",
      "zero+x1+x5+x0x1+x0x2+x1x3+x2x3+x4x5+x4x6+x5x7+x6x7+x0x1x3+x0x2x3\t\n",
      "zero+x2+x6+x0x1+x0x2+x1x3+x2x3+x4x6+x5x6+x4x7+x5x7+x0x1x2+x0x1x3\t\n",
      "zero+x3+x7+x0x1+x0x2+x1x3+x2x3+x4x5+x4x6+x5x7+x6x7+x0x1x2+x1x2x3\n"
     ]
    },
    {
     "data": {
      "image/png": "[encoded data removed]",
      "text/plain": [
       "<Figure size 1440x648 with 1 Axes>"
      ]
     },
     "metadata": {
      "needs_background": "light"
     },
     "output_type": "display_data"
    }
   ],
   "source": [
    "visualize_grp(list_grps[0])"
   ]
  },
  {
   "cell_type": "code",
   "execution_count": 39,
   "id": "335719d4",
   "metadata": {},
   "outputs": [
    {
     "name": "stdout",
     "output_type": "stream",
     "text": [
      "zero+x4+x0x1+x0x2+x1x3+x2x3+x4x5+x4x6+x5x7+x6x7+x4x5x6+x5x6x7\t\n",
      "zero+x5+x0x2+x1x2+x0x3+x1x3+x4x5+x4x6+x5x7+x6x7+x4x6x7+x5x6x7\t\n",
      "zero+x6+x0x1+x0x2+x1x3+x2x3+x4x5+x4x6+x5x7+x6x7+x4x5x7+x4x6x7\t\n",
      "zero+x7+x0x2+x1x2+x0x3+x1x3+x4x5+x4x6+x5x7+x6x7+x4x5x6+x4x5x7\t\n",
      "zero+x0+x4+x0x1+x0x2+x1x3+x2x3+x4x6+x5x6+x4x7+x5x7+x0x2x3+x1x2x3\t\n",
      "zero+x1+x5+x0x1+x0x2+x1x3+x2x3+x4x5+x4x6+x5x7+x6x7+x0x1x3+x0x2x3\t\n",
      "zero+x2+x6+x0x1+x0x2+x1x3+x2x3+x4x6+x5x6+x4x7+x5x7+x0x1x2+x0x1x3\t\n",
      "zero+x3+x7+x0x1+x0x2+x1x3+x2x3+x4x5+x4x6+x5x7+x6x7+x0x1x2+x1x2x3\n"
     ]
    },
    {
     "data": {
      "image/png": "[encoded data removed]",
      "text/plain": [
       "<Figure size 1440x648 with 1 Axes>"
      ]
     },
     "metadata": {
      "needs_background": "light"
     },
     "output_type": "display_data"
    },
    {
     "name": "stdout",
     "output_type": "stream",
     "text": [
      "zero+x4+x0x1+x0x2+x1x3+x2x3+x4x5+x5x6+x4x7+x6x7+x4x5x6+x5x6x7\t\n",
      "zero+x5+x0x2+x1x2+x0x3+x1x3+x4x5+x5x6+x4x7+x6x7+x4x6x7+x5x6x7\t\n",
      "zero+x6+x0x1+x0x2+x1x3+x2x3+x4x5+x5x6+x4x7+x6x7+x4x5x7+x4x6x7\t\n",
      "zero+x7+x0x2+x1x2+x0x3+x1x3+x4x5+x5x6+x4x7+x6x7+x4x5x6+x4x5x7\t\n",
      "zero+x0+x4+x0x1+x1x2+x0x3+x2x3+x4x6+x5x6+x4x7+x5x7+x0x2x3+x1x2x3\t\n",
      "zero+x1+x5+x0x1+x1x2+x0x3+x2x3+x4x5+x4x6+x5x7+x6x7+x0x1x3+x0x2x3\t\n",
      "zero+x2+x6+x0x1+x1x2+x0x3+x2x3+x4x6+x5x6+x4x7+x5x7+x0x1x2+x0x1x3\t\n",
      "zero+x3+x7+x0x1+x1x2+x0x3+x2x3+x4x5+x4x6+x5x7+x6x7+x0x1x2+x1x2x3\n"
     ]
    },
    {
     "data": {
      "image/png": "[encoded data removed]",
      "text/plain": [
       "<Figure size 1440x648 with 1 Axes>"
      ]
     },
     "metadata": {
      "needs_background": "light"
     },
     "output_type": "display_data"
    },
    {
     "name": "stdout",
     "output_type": "stream",
     "text": [
      "zero+x4+x0x1+x0x2+x1x3+x2x3+x4x6+x5x6+x4x7+x5x7+x4x5x6+x5x6x7\t\n",
      "zero+x5+x0x2+x1x2+x0x3+x1x3+x4x6+x5x6+x4x7+x5x7+x4x6x7+x5x6x7\t\n",
      "zero+x6+x0x1+x0x2+x1x3+x2x3+x4x6+x5x6+x4x7+x5x7+x4x5x7+x4x6x7\t\n",
      "zero+x7+x0x2+x1x2+x0x3+x1x3+x4x6+x5x6+x4x7+x5x7+x4x5x6+x4x5x7\t\n",
      "zero+x0+x4+x0x2+x1x2+x0x3+x1x3+x4x6+x5x6+x4x7+x5x7+x0x2x3+x1x2x3\t\n",
      "zero+x1+x5+x0x2+x1x2+x0x3+x1x3+x4x5+x4x6+x5x7+x6x7+x0x1x3+x0x2x3\t\n",
      "zero+x2+x6+x0x2+x1x2+x0x3+x1x3+x4x6+x5x6+x4x7+x5x7+x0x1x2+x0x1x3\t\n",
      "zero+x3+x7+x0x2+x1x2+x0x3+x1x3+x4x5+x4x6+x5x7+x6x7+x0x1x2+x1x2x3\n"
     ]
    },
    {
     "data": {
      "image/png": "[encoded data removed]",
      "text/plain": [
       "<Figure size 1440x648 with 1 Axes>"
      ]
     },
     "metadata": {
      "needs_background": "light"
     },
     "output_type": "display_data"
    },
    {
     "name": "stdout",
     "output_type": "stream",
     "text": [
      "zero+x4+x0x1+x0x2+x1x3+x2x3+x4x5x6+x5x6x7\t\n",
      "zero+x5+x0x2+x1x2+x0x3+x1x3+x4x6x7+x5x6x7\t\n",
      "zero+x6+x0x1+x0x2+x1x3+x2x3+x4x5x7+x4x6x7\t\n",
      "zero+x7+x0x2+x1x2+x0x3+x1x3+x4x5x6+x4x5x7\t\n",
      "zero+x0+x4+x4x6+x5x6+x4x7+x5x7+x0x2x3+x1x2x3\t\n",
      "zero+x1+x5+x4x5+x4x6+x5x7+x6x7+x0x1x3+x0x2x3\t\n",
      "zero+x2+x6+x4x6+x5x6+x4x7+x5x7+x0x1x2+x0x1x3\t\n",
      "zero+x3+x7+x4x5+x4x6+x5x7+x6x7+x0x1x2+x1x2x3\n"
     ]
    },
    {
     "data": {
      "image/png": "[encoded data removed]",
      "text/plain": [
       "<Figure size 1440x648 with 1 Axes>"
      ]
     },
     "metadata": {
      "needs_background": "light"
     },
     "output_type": "display_data"
    },
    {
     "name": "stdout",
     "output_type": "stream",
     "text": [
      "zero+x4+x0x2+x1x2+x0x3+x1x3+x4x5+x4x6+x5x7+x6x7+x4x5x6+x5x6x7\t\n",
      "zero+x5+x0x1+x0x2+x1x3+x2x3+x4x6+x5x6+x4x7+x5x7+x4x6x7+x5x6x7\t\n",
      "zero+x6+x0x2+x1x2+x0x3+x1x3+x4x5+x4x6+x5x7+x6x7+x4x5x7+x4x6x7\t\n",
      "zero+x7+x0x1+x0x2+x1x3+x2x3+x4x6+x5x6+x4x7+x5x7+x4x5x6+x4x5x7\t\n",
      "zero+x0+x4+x0x2+x1x2+x0x3+x1x3+x4x5+x4x6+x5x7+x6x7+x0x2x3+x1x2x3\t\n",
      "zero+x1+x5+x0x1+x0x2+x1x3+x2x3+x4x6+x5x6+x4x7+x5x7+x0x1x3+x0x2x3\t\n",
      "zero+x2+x6+x0x2+x1x2+x0x3+x1x3+x4x5+x4x6+x5x7+x6x7+x0x1x2+x0x1x3\t\n",
      "zero+x3+x7+x0x1+x0x2+x1x3+x2x3+x4x6+x5x6+x4x7+x5x7+x0x1x2+x1x2x3\n"
     ]
    },
    {
     "data": {
      "image/png": "[encoded data removed]",
      "text/plain": [
       "<Figure size 1440x648 with 1 Axes>"
      ]
     },
     "metadata": {
      "needs_background": "light"
     },
     "output_type": "display_data"
    },
    {
     "name": "stdout",
     "output_type": "stream",
     "text": [
      "zero+x4+x0x2+x1x2+x0x3+x1x3+x4x5+x5x6+x4x7+x6x7+x4x5x6+x5x6x7\t\n",
      "zero+x5+x0x1+x0x2+x1x3+x2x3+x4x6x7+x5x6x7\t\n",
      "zero+x6+x0x2+x1x2+x0x3+x1x3+x4x5+x5x6+x4x7+x6x7+x4x5x7+x4x6x7\t\n",
      "zero+x7+x0x1+x0x2+x1x3+x2x3+x4x5x6+x4x5x7\t\n",
      "zero+x0+x4+x4x5+x4x6+x5x7+x6x7+x0x2x3+x1x2x3\t\n",
      "zero+x1+x5+x0x1+x1x2+x0x3+x2x3+x4x6+x5x6+x4x7+x5x7+x0x1x3+x0x2x3\t\n",
      "zero+x2+x6+x4x5+x4x6+x5x7+x6x7+x0x1x2+x0x1x3\t\n",
      "zero+x3+x7+x0x1+x1x2+x0x3+x2x3+x4x6+x5x6+x4x7+x5x7+x0x1x2+x1x2x3\n"
     ]
    },
    {
     "data": {
      "image/png": "[encoded data removed]",
      "text/plain": [
       "<Figure size 1440x648 with 1 Axes>"
      ]
     },
     "metadata": {
      "needs_background": "light"
     },
     "output_type": "display_data"
    },
    {
     "name": "stdout",
     "output_type": "stream",
     "text": [
      "zero+x4+x0x2+x1x2+x0x3+x1x3+x4x6+x5x6+x4x7+x5x7+x4x5x6+x5x6x7\t\n",
      "zero+x5+x0x1+x0x2+x1x3+x2x3+x4x5+x4x6+x5x7+x6x7+x4x6x7+x5x6x7\t\n",
      "zero+x6+x0x2+x1x2+x0x3+x1x3+x4x6+x5x6+x4x7+x5x7+x4x5x7+x4x6x7\t\n",
      "zero+x7+x0x1+x0x2+x1x3+x2x3+x4x5+x4x6+x5x7+x6x7+x4x5x6+x4x5x7\t\n",
      "zero+x0+x4+x0x1+x0x2+x1x3+x2x3+x4x5+x4x6+x5x7+x6x7+x0x2x3+x1x2x3\t\n",
      "zero+x1+x5+x0x2+x1x2+x0x3+x1x3+x4x6+x5x6+x4x7+x5x7+x0x1x3+x0x2x3\t\n",
      "zero+x2+x6+x0x1+x0x2+x1x3+x2x3+x4x5+x4x6+x5x7+x6x7+x0x1x2+x0x1x3\t\n",
      "zero+x3+x7+x0x2+x1x2+x0x3+x1x3+x4x6+x5x6+x4x7+x5x7+x0x1x2+x1x2x3\n"
     ]
    },
    {
     "data": {
      "image/png": "[encoded data removed]",
      "text/plain": [
       "<Figure size 1440x648 with 1 Axes>"
      ]
     },
     "metadata": {
      "needs_background": "light"
     },
     "output_type": "display_data"
    },
    {
     "name": "stdout",
     "output_type": "stream",
     "text": [
      "zero+x4+x0x2+x1x2+x0x3+x1x3+x4x5x6+x5x6x7\t\n",
      "zero+x5+x0x1+x0x2+x1x3+x2x3+x4x5+x5x6+x4x7+x6x7+x4x6x7+x5x6x7\t\n",
      "zero+x6+x0x2+x1x2+x0x3+x1x3+x4x5x7+x4x6x7\t\n",
      "zero+x7+x0x1+x0x2+x1x3+x2x3+x4x5+x5x6+x4x7+x6x7+x4x5x6+x4x5x7\t\n",
      "zero+x0+x4+x0x1+x1x2+x0x3+x2x3+x4x5+x4x6+x5x7+x6x7+x0x2x3+x1x2x3\t\n",
      "zero+x1+x5+x4x6+x5x6+x4x7+x5x7+x0x1x3+x0x2x3\t\n",
      "zero+x2+x6+x0x1+x1x2+x0x3+x2x3+x4x5+x4x6+x5x7+x6x7+x0x1x2+x0x1x3\t\n",
      "zero+x3+x7+x4x6+x5x6+x4x7+x5x7+x0x1x2+x1x2x3\n"
     ]
    },
    {
     "data": {
      "image/png": "[encoded data removed]",
      "text/plain": [
       "<Figure size 1440x648 with 1 Axes>"
      ]
     },
     "metadata": {
      "needs_background": "light"
     },
     "output_type": "display_data"
    }
   ],
   "source": [
    "for g in list_grps:\n",
    "    visualize_grp(g)"
   ]
  },
  {
   "cell_type": "code",
   "execution_count": 43,
   "id": "b26be759",
   "metadata": {},
   "outputs": [
    {
     "name": "stdout",
     "output_type": "stream",
     "text": [
      "zero+x4+x0x2+x1x2+x0x3+x1x3+x4x5+x4x6+x5x7+x6x7+x4x5x6+x5x6x7\t\n",
      "zero+x5+x0x1+x0x2+x1x3+x2x3+x4x6+x5x6+x4x7+x5x7+x4x6x7+x5x6x7\t\n",
      "zero+x6+x0x2+x1x2+x0x3+x1x3+x4x5+x4x6+x5x7+x6x7+x4x5x7+x4x6x7\t\n",
      "zero+x7+x0x1+x0x2+x1x3+x2x3+x4x6+x5x6+x4x7+x5x7+x4x5x6+x4x5x7\t\n",
      "zero+x0+x4+x0x2+x1x2+x0x3+x1x3+x4x5+x4x6+x5x7+x6x7+x0x2x3+x1x2x3\t\n",
      "zero+x1+x5+x0x1+x0x2+x1x3+x2x3+x4x6+x5x6+x4x7+x5x7+x0x1x3+x0x2x3\t\n",
      "zero+x2+x6+x0x2+x1x2+x0x3+x1x3+x4x5+x4x6+x5x7+x6x7+x0x1x2+x0x1x3\t\n",
      "zero+x3+x7+x0x1+x0x2+x1x3+x2x3+x4x6+x5x6+x4x7+x5x7+x0x1x2+x1x2x3\n"
     ]
    },
    {
     "data": {
      "image/png": "[encoded data removed]",
      "text/plain": [
       "<Figure size 1440x648 with 1 Axes>"
      ]
     },
     "metadata": {
      "needs_background": "light"
     },
     "output_type": "display_data"
    }
   ],
   "source": [
    "visualize_grp(list_grps[4])"
   ]
  },
  {
   "cell_type": "code",
   "execution_count": 40,
   "id": "c56c81e7",
   "metadata": {},
   "outputs": [
    {
     "data": {
      "image/png": "[encoded data removed]",
      "text/plain": [
       "<Figure size 1440x648 with 1 Axes>"
      ]
     },
     "metadata": {
      "needs_background": "light"
     },
     "output_type": "display_data"
    }
   ],
   "source": [
    "visualize_ep(\"x0x2+x1x2+x0x3+x1x3\")"
   ]
  },
  {
   "cell_type": "code",
   "execution_count": 46,
   "id": "a4f72988",
   "metadata": {},
   "outputs": [
    {
     "data": {
      "image/png": "[encoded data removed]",
      "text/plain": [
       "<Figure size 1440x648 with 1 Axes>"
      ]
     },
     "metadata": {
      "needs_background": "light"
     },
     "output_type": "display_data"
    }
   ],
   "source": [
    "visualize_ep(\"x0x1+x0x2+x1x3+x2x3\")"
   ]
  },
  {
   "cell_type": "code",
   "execution_count": 47,
   "id": "ef44a644",
   "metadata": {},
   "outputs": [
    {
     "data": {
      "image/png": "[encoded data removed]",
      "text/plain": [
       "<Figure size 1440x648 with 1 Axes>"
      ]
     },
     "metadata": {
      "needs_background": "light"
     },
     "output_type": "display_data"
    }
   ],
   "source": [
    "visualize_ep(\"x0x1+x0x3+x1x2+x2x3\")"
   ]
  },
  {
   "cell_type": "code",
   "execution_count": 48,
   "id": "8c318e3b",
   "metadata": {},
   "outputs": [
    {
     "data": {
      "image/png": "[encoded data removed]",
      "text/plain": [
       "<Figure size 1440x648 with 1 Axes>"
      ]
     },
     "metadata": {
      "needs_background": "light"
     },
     "output_type": "display_data"
    }
   ],
   "source": [
    "visualize_ep(\"x4x5+x4x6+x5x7+x6x7\")"
   ]
  },
  {
   "cell_type": "code",
   "execution_count": 41,
   "id": "e43ce080",
   "metadata": {},
   "outputs": [
    {
     "data": {
      "image/png": "[encoded data removed]",
      "text/plain": [
       "<Figure size 1440x648 with 1 Axes>"
      ]
     },
     "metadata": {
      "needs_background": "light"
     },
     "output_type": "display_data"
    }
   ],
   "source": [
    "visualize_ep(\"x4x5x6+x5x6x7\")"
   ]
  },
  {
   "cell_type": "code",
   "execution_count": 42,
   "id": "596ae25a",
   "metadata": {},
   "outputs": [
    {
     "data": {
      "image/png": "[encoded data removed]",
      "text/plain": [
       "<Figure size 1440x648 with 1 Axes>"
      ]
     },
     "metadata": {
      "needs_background": "light"
     },
     "output_type": "display_data"
    }
   ],
   "source": [
    "visualize_ep(\"x4x5x7+x4x6x7\")"
   ]
  }
 ],
 "metadata": {
  "kernelspec": {
   "display_name": "Python 3",
   "language": "python",
   "name": "python3"
  },
  "language_info": {
   "codemirror_mode": {
    "name": "ipython",
    "version": 3
   },
   "file_extension": ".py",
   "mimetype": "text/x-python",
   "name": "python",
   "nbconvert_exporter": "python",
   "pygments_lexer": "ipython3",
   "version": "3.9.6"
  }
 },
 "nbformat": 4,
 "nbformat_minor": 5
}
