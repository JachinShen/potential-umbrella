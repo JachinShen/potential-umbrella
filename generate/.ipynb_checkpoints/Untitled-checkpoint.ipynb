{
 "cells": [
  {
   "cell_type": "code",
   "execution_count": 1,
   "id": "d4254f8f",
   "metadata": {},
   "outputs": [],
   "source": [
    "import expression as ep\n",
    "import group as grp\n",
    "import matplotlib.pyplot as plt\n",
    "import numpy as np"
   ]
  },
  {
   "cell_type": "code",
   "execution_count": 2,
   "id": "e5e59ecd",
   "metadata": {},
   "outputs": [],
   "source": [
    "first_half = [\n",
    "    \"x4+x5x6x7\",\n",
    "    \"x5+x5x6x7+x6x7x4\",\n",
    "    \"x6+x6x7x4+x7x4x5\",\n",
    "    \"x7+x7x4x5+x4x5x6\"\n",
    "]"
   ]
  },
  {
   "cell_type": "code",
   "execution_count": 3,
   "id": "31b4eaa9",
   "metadata": {},
   "outputs": [
    {
     "name": "stdout",
     "output_type": "stream",
     "text": [
      "True\n"
     ]
    },
    {
     "data": {
      "image/png": "[encoded data removed]",
      "text/plain": [
       "<Figure size 1152x648 with 1 Axes>"
      ]
     },
     "metadata": {
      "needs_background": "light"
     },
     "output_type": "display_data"
    },
    {
     "data": {
      "text/plain": [
       "array([[0, 0, 0, ..., 1, 1, 0],\n",
       "       [0, 0, 0, ..., 1, 1, 1],\n",
       "       [0, 0, 1, ..., 1, 1, 1],\n",
       "       ...,\n",
       "       [0, 0, 0, ..., 0, 0, 0],\n",
       "       [0, 0, 1, ..., 1, 0, 0],\n",
       "       [0, 1, 0, ..., 1, 0, 1]], dtype=int32)"
      ]
     },
     "execution_count": 3,
     "metadata": {},
     "output_type": "execute_result"
    }
   ],
   "source": [
    "def test_first_half(first_half):\n",
    "    first_half = list(map(ep.Expr, first_half))\n",
    "    base_terms = [\"x4\", \"x5\", \"x6\", \"x7\"]\n",
    "    base_terms = list(map(ep.Expr, base_terms))\n",
    "    second_half = []\n",
    "    for t, equ in zip(base_terms, first_half[::-1]):\n",
    "        new_eq = t + equ.get_pair_expr()\n",
    "        second_half.append(new_eq)\n",
    "    G = grp.Group(first_half + second_half)\n",
    "    print(G.test_permutation())\n",
    "    out = G.get_all_out().astype(np.int32)\n",
    "    #print(out)\n",
    "    plt.figure(figsize=(16, 9))\n",
    "    plt.imshow(out[:, :])\n",
    "    plt.show()\n",
    "    return out\n",
    "test_first_half(first_half)"
   ]
  },
  {
   "cell_type": "code",
   "execution_count": 24,
   "id": "55a080ea",
   "metadata": {},
   "outputs": [],
   "source": [
    "first_half = [\n",
    "    \"x4+x5x6x7\",\n",
    "    \"x5+x4x5x6+x4x6x7\",\n",
    "    \"x6+x4x5x7+x5x6x7\",\n",
    "    \"x7+x4x5x6+x4x5x7\"\n",
    "]"
   ]
  },
  {
   "cell_type": "code",
   "execution_count": 5,
   "id": "9ee29b93",
   "metadata": {},
   "outputs": [
    {
     "name": "stdout",
     "output_type": "stream",
     "text": [
      "False\n"
     ]
    },
    {
     "data": {
      "image/png": "[encoded data removed]",
      "text/plain": [
       "<Figure size 1152x648 with 1 Axes>"
      ]
     },
     "metadata": {
      "needs_background": "light"
     },
     "output_type": "display_data"
    }
   ],
   "source": [
    "out = test_first_half([\n",
    "    \"x4+x4x6x7+x5x6x7+x0x1x3x4x6x7+x0x1x2x3x4x5x6\",\n",
    "    \"x5+x4x5x6+x4x6x7+x1x2x3x4x5x6+x0x1x2x3x4x5x7\",\n",
    "    \"x6+x4x5x7+x5x6x7+x0x1x2x5x6x7+x0x1x2x3x4x6x7\",\n",
    "    \"x7+x4x5x6+x4x5x7+x0x2x3x4x5x7+x0x1x2x3x5x6x7\"\n",
    "])"
   ]
  },
  {
   "cell_type": "code",
   "execution_count": 37,
   "id": "be8f0bf5",
   "metadata": {},
   "outputs": [],
   "source": [
    "def extract_duplicate_out(out):\n",
    "    out_uniq, ctrs = np.unique(out, axis=1, return_counts=True)\n",
    "    duplicate_out = out_uniq[:, ctrs > 1]\n",
    "    for d in duplicate_out.T:\n",
    "    print(\"==============\")\n",
    "    for i, o in enumerate(out.T):\n",
    "        if (o == d).all():\n",
    "            print(bin(i), o)"
   ]
  },
  {
   "cell_type": "code",
   "execution_count": 40,
   "id": "3e1bb054",
   "metadata": {},
   "outputs": [
    {
     "data": {
      "text/plain": [
       "((8, 252), (252,))"
      ]
     },
     "execution_count": 40,
     "metadata": {},
     "output_type": "execute_result"
    }
   ],
   "source": [
    "out_uniq.shape, ctrs.shape"
   ]
  },
  {
   "cell_type": "code",
   "execution_count": 42,
   "id": "2109afa8",
   "metadata": {},
   "outputs": [
    {
     "data": {
      "text/plain": [
       "(array([115, 184, 211, 232]),)"
      ]
     },
     "execution_count": 42,
     "metadata": {},
     "output_type": "execute_result"
    }
   ],
   "source": [
    "np.nonzero(ctrs > 1)"
   ]
  },
  {
   "cell_type": "code",
   "execution_count": 43,
   "id": "23bc646b",
   "metadata": {},
   "outputs": [],
   "source": []
  },
  {
   "cell_type": "code",
   "execution_count": 51,
   "id": "66059b07",
   "metadata": {},
   "outputs": [
    {
     "name": "stdout",
     "output_type": "stream",
     "text": [
      "==============\n",
      "0b10001011 [0 1 1 1 0 0 1 1]\n",
      "0b11111110 [0 1 1 1 0 0 1 1]\n",
      "==============\n",
      "0b1001110 [1 0 1 1 1 0 1 0]\n",
      "0b11111101 [1 0 1 1 1 0 1 0]\n",
      "==============\n",
      "0b100111 [1 1 0 1 0 1 0 1]\n",
      "0b11111011 [1 1 0 1 0 1 0 1]\n",
      "==============\n",
      "0b11101 [1 1 1 0 1 1 0 0]\n",
      "0b11110111 [1 1 1 0 1 1 0 0]\n"
     ]
    }
   ],
   "source": []
  },
  {
   "cell_type": "code",
   "execution_count": null,
   "id": "77b00d2f",
   "metadata": {},
   "outputs": [],
   "source": []
  }
 ],
 "metadata": {
  "kernelspec": {
   "display_name": "Python 3 (ipykernel)",
   "language": "python",
   "name": "python3"
  },
  "language_info": {
   "codemirror_mode": {
    "name": "ipython",
    "version": 3
   },
   "file_extension": ".py",
   "mimetype": "text/x-python",
   "name": "python",
   "nbconvert_exporter": "python",
   "pygments_lexer": "ipython3",
   "version": "3.9.7"
  }
 },
 "nbformat": 4,
 "nbformat_minor": 5
}
