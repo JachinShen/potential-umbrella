{
 "cells": [
  {
   "cell_type": "code",
   "execution_count": 4,
   "id": "ce637283",
   "metadata": {},
   "outputs": [],
   "source": [
    "import numpy as np\n",
    "import matplotlib.pyplot as plt\n",
    "import expression as ep\n",
    "import group as grp"
   ]
  },
  {
   "cell_type": "code",
   "execution_count": 2,
   "id": "00955065",
   "metadata": {},
   "outputs": [],
   "source": [
    "with open(\"cache/half_permutations_8.txt\", \"r\") as txt_file:\n",
    "    str_perm = txt_file.read()\n",
    "list_str_grps = str_perm.split(\"\\n\\n\")\n",
    "list_grps = [len_t.split(\"\\n\") for len_t in list_str_grps]"
   ]
  },
  {
   "cell_type": "code",
   "execution_count": 11,
   "id": "28f66905",
   "metadata": {},
   "outputs": [
    {
     "name": "stdout",
     "output_type": "stream",
     "text": [
      "zero+x4+x4x5x6+x5x6x7\t\n",
      "zero+x5+x4x6x7+x5x6x7\t\n",
      "zero+x6+x4x5x7+x4x6x7\t\n",
      "zero+x7+x4x5x6+x4x5x7\t\n",
      "zero+x0+x4+x0x2x3+x1x2x3\t\n",
      "zero+x1+x5+x0x1x3+x0x2x3\t\n",
      "zero+x2+x6+x0x1x2+x0x1x3\t\n",
      "zero+x3+x7+x0x1x2+x1x2x3\n"
     ]
    },
    {
     "data": {
      "image/png": "[encoded data removed]",
      "text/plain": [
       "<Figure size 1152x648 with 1 Axes>"
      ]
     },
     "metadata": {
      "needs_background": "light"
     },
     "output_type": "display_data"
    }
   ],
   "source": [
    "def visualize_grp(g):\n",
    "    g = grp.Group(g)\n",
    "    print(g)\n",
    "    out = g.get_all_out()\n",
    "    plt.figure(figsize=(16, 9))\n",
    "    plt.imshow(out)\n",
    "visualize_grp(list_grps[-1])"
   ]
  },
  {
   "cell_type": "code",
   "execution_count": null,
   "id": "3b041de1",
   "metadata": {},
   "outputs": [],
   "source": []
  }
 ],
 "metadata": {
  "kernelspec": {
   "display_name": "Python 3",
   "language": "python",
   "name": "python3"
  },
  "language_info": {
   "codemirror_mode": {
    "name": "ipython",
    "version": 3
   },
   "file_extension": ".py",
   "mimetype": "text/x-python",
   "name": "python",
   "nbconvert_exporter": "python",
   "pygments_lexer": "ipython3",
   "version": "3.9.6"
  }
 },
 "nbformat": 4,
 "nbformat_minor": 5
}
