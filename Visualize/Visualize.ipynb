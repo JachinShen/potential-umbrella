{
 "cells": [
  {
   "cell_type": "code",
   "execution_count": 1,
   "id": "ba527bb8",
   "metadata": {},
   "outputs": [],
   "source": [
    "import numpy as np\n",
    "import matplotlib.pyplot as plt\n",
    "import expression as ep\n",
    "import group as grp"
   ]
  },
  {
   "cell_type": "code",
   "execution_count": 37,
   "id": "aa67e417",
   "metadata": {},
   "outputs": [],
   "source": [
    "with open(\"cache/half_permutations_8.txt\", \"r\") as txt_file:\n",
    "    str_perm = txt_file.read()\n",
    "list_str_grps = str_perm.split(\"\\n\\n\")\n",
    "list_grps = [len_t.split(\"\\n\") for len_t in list_str_grps]"
   ]
  },
  {
   "cell_type": "code",
   "execution_count": 3,
   "id": "8d480d37",
   "metadata": {},
   "outputs": [
    {
     "name": "stdout",
     "output_type": "stream",
     "text": [
      "zero+x4+x0x2+x1x2+x0x3+x1x3+x4x5x6+x5x6x7\t\n",
      "zero+x5+x0x1+x0x2+x1x3+x2x3+x4x5+x5x6+x4x7+x6x7+x4x6x7+x5x6x7\t\n",
      "zero+x6+x0x2+x1x2+x0x3+x1x3+x4x5x7+x4x6x7\t\n",
      "zero+x7+x0x1+x0x2+x1x3+x2x3+x4x5+x5x6+x4x7+x6x7+x4x5x6+x4x5x7\t\n",
      "zero+x0+x4+x0x1+x1x2+x0x3+x2x3+x4x5+x4x6+x5x7+x6x7+x0x2x3+x1x2x3\t\n",
      "zero+x1+x5+x4x6+x5x6+x4x7+x5x7+x0x1x3+x0x2x3\t\n",
      "zero+x2+x6+x0x1+x1x2+x0x3+x2x3+x4x5+x4x6+x5x7+x6x7+x0x1x2+x0x1x3\t\n",
      "zero+x3+x7+x4x6+x5x6+x4x7+x5x7+x0x1x2+x1x2x3\n"
     ]
    },
    {
     "data": {
      "image/png": "[encoded data removed]",
      "text/plain": [
       "<Figure size 1440x648 with 1 Axes>"
      ]
     },
     "metadata": {
      "needs_background": "light"
     },
     "output_type": "display_data"
    }
   ],
   "source": [
    "def visualize_grp(g):\n",
    "    g = grp.Group(g)\n",
    "    print(g)\n",
    "    out = g.get_all_out()\n",
    "    plt.figure(figsize=(20, 9))\n",
    "    plt.yticks([])\n",
    "    plt.imshow(out)\n",
    "    plt.show()\n",
    "visualize_grp(list_grps[-1])"
   ]
  },
  {
   "cell_type": "code",
   "execution_count": 12,
   "id": "dbad8601",
   "metadata": {},
   "outputs": [
    {
     "data": {
      "image/png": "[encoded data removed]",
      "text/plain": [
       "<Figure size 1440x648 with 1 Axes>"
      ]
     },
     "metadata": {
      "needs_background": "light"
     },
     "output_type": "display_data"
    }
   ],
   "source": [
    "def visualize_ep(e):\n",
    "    e = ep.Expr(e)\n",
    "    out = e.get_all_out().reshape(1, 256)\n",
    "    plt.figure(figsize=(20, 9))\n",
    "    plt.yticks([])\n",
    "    plt.imshow(out)\n",
    "    plt.show()\n",
    "    # print(out.astype(int))\n",
    "visualize_ep(\"x4x6+x5x6+x4x7+x5x7\")"
   ]
  },
  {
   "cell_type": "code",
   "execution_count": 5,
   "id": "23265123",
   "metadata": {},
   "outputs": [
    {
     "name": "stdout",
     "output_type": "stream",
     "text": [
      "x4\t\n",
      "x5\t\n",
      "x6\t\n",
      "x7\t\n",
      "x0+x4\t\n",
      "x1+x5\t\n",
      "x2+x6\t\n",
      "x3+x7\n"
     ]
    },
    {
     "data": {
      "image/png": "[encoded data removed]",
      "text/plain": [
       "<Figure size 1440x648 with 1 Axes>"
      ]
     },
     "metadata": {
      "needs_background": "light"
     },
     "output_type": "display_data"
    }
   ],
   "source": [
    "visualize_grp([\n",
    "    \"x4\", \"x5\", \"x6\", \"x7\",\n",
    "    \"x0+x4\", \"x1+x5\", \"x2+x6\", \"x3+x7\"\n",
    "])"
   ]
  },
  {
   "cell_type": "code",
   "execution_count": 6,
   "id": "37009fc2",
   "metadata": {},
   "outputs": [
    {
     "name": "stdout",
     "output_type": "stream",
     "text": [
      "x0+x4\t\n",
      "x1+x5\t\n",
      "x2+x6\t\n",
      "x3+x7\t\n",
      "x0\t\n",
      "x1\t\n",
      "x2\t\n",
      "x3\n"
     ]
    },
    {
     "data": {
      "image/png": "[encoded data removed]",
      "text/plain": [
       "<Figure size 1440x648 with 1 Axes>"
      ]
     },
     "metadata": {
      "needs_background": "light"
     },
     "output_type": "display_data"
    }
   ],
   "source": [
    "visualize_grp([\n",
    "    \"x4+x0\", \"x5+x1\", \"x6+x2\", \"x7+x3\",\n",
    "    \"x0\", \"x1\", \"x2\", \"x3\"\n",
    "])"
   ]
  },
  {
   "cell_type": "code",
   "execution_count": 28,
   "id": "9431fb98",
   "metadata": {},
   "outputs": [
    {
     "name": "stdout",
     "output_type": "stream",
     "text": [
      "zero+x4+x4x5x6+x5x6x7\t\n",
      "zero+x5+x4x6x7+x5x6x7\t\n",
      "zero+x6+x4x6+x5x6+x4x7+x5x7+x4x5x7+x4x6x7\t\n",
      "zero+x7+x4x6+x5x6+x4x7+x5x7+x4x5x6+x4x5x7\t\n",
      "zero+x0+x4+x0x2+x1x2+x0x3+x1x3+x0x2x3+x1x2x3\t\n",
      "zero+x1+x5+x0x2+x1x2+x0x3+x1x3+x0x1x3+x0x2x3\t\n",
      "zero+x2+x6+x0x1x2+x0x1x3\t\n",
      "zero+x3+x7+x0x1x2+x1x2x3\n"
     ]
    },
    {
     "data": {
      "image/png": "[encoded data removed]",
      "text/plain": [
       "<Figure size 1440x648 with 1 Axes>"
      ]
     },
     "metadata": {
      "needs_background": "light"
     },
     "output_type": "display_data"
    }
   ],
   "source": [
    "visualize_grp(list_grps[-2])"
   ]
  },
  {
   "cell_type": "code",
   "execution_count": 29,
   "id": "e28ad553",
   "metadata": {},
   "outputs": [
    {
     "name": "stdout",
     "output_type": "stream",
     "text": [
      "zero+x4+x4x5x6+x5x6x7\t\n",
      "zero+x5+x4x5+x5x6+x4x7+x6x7+x4x6x7+x5x6x7\t\n",
      "zero+x6+x4x5x7+x4x6x7\t\n",
      "zero+x7+x4x5+x5x6+x4x7+x6x7+x4x5x6+x4x5x7\t\n",
      "zero+x0+x4+x0x1+x1x2+x0x3+x2x3+x0x2x3+x1x2x3\t\n",
      "zero+x1+x5+x0x1x3+x0x2x3\t\n",
      "zero+x2+x6+x0x1+x1x2+x0x3+x2x3+x0x1x2+x0x1x3\t\n",
      "zero+x3+x7+x0x1x2+x1x2x3\n"
     ]
    },
    {
     "data": {
      "image/png": "[encoded data removed]",
      "text/plain": [
       "<Figure size 1440x648 with 1 Axes>"
      ]
     },
     "metadata": {
      "needs_background": "light"
     },
     "output_type": "display_data"
    }
   ],
   "source": [
    "visualize_grp(list_grps[-3])"
   ]
  },
  {
   "cell_type": "code",
   "execution_count": 13,
   "id": "af0e548c",
   "metadata": {
    "scrolled": true
   },
   "outputs": [
    {
     "data": {
      "image/png": "[encoded data removed]",
      "text/plain": [
       "<Figure size 1440x648 with 1 Axes>"
      ]
     },
     "metadata": {
      "needs_background": "light"
     },
     "output_type": "display_data"
    }
   ],
   "source": [
    "visualize_ep(\"x4x5x6+x5x6x7\")"
   ]
  },
  {
   "cell_type": "code",
   "execution_count": 7,
   "id": "6e7466b5",
   "metadata": {},
   "outputs": [
    {
     "data": {
      "image/png": "[encoded data removed]",
      "text/plain": [
       "<Figure size 1440x648 with 1 Axes>"
      ]
     },
     "metadata": {
      "needs_background": "light"
     },
     "output_type": "display_data"
    }
   ],
   "source": [
    "visualize_ep(\"x4+x4x5x6+x5x6x7\")"
   ]
  },
  {
   "cell_type": "code",
   "execution_count": 8,
   "id": "ec7c26bf",
   "metadata": {},
   "outputs": [
    {
     "data": {
      "image/png": "[encoded data removed]",
      "text/plain": [
       "<Figure size 1440x648 with 1 Axes>"
      ]
     },
     "metadata": {
      "needs_background": "light"
     },
     "output_type": "display_data"
    }
   ],
   "source": [
    "visualize_ep(\"x4\")"
   ]
  },
  {
   "cell_type": "code",
   "execution_count": 14,
   "id": "1579a020",
   "metadata": {},
   "outputs": [
    {
     "data": {
      "image/png": "[encoded data removed]",
      "text/plain": [
       "<Figure size 1440x648 with 1 Axes>"
      ]
     },
     "metadata": {
      "needs_background": "light"
     },
     "output_type": "display_data"
    }
   ],
   "source": [
    "visualize_ep(\"x4x5+x4x6+x5x7+x6x7\")"
   ]
  },
  {
   "cell_type": "code",
   "execution_count": 15,
   "id": "03a51b21",
   "metadata": {},
   "outputs": [
    {
     "data": {
      "image/png": "[encoded data removed]",
      "text/plain": [
       "<Figure size 1440x648 with 1 Axes>"
      ]
     },
     "metadata": {
      "needs_background": "light"
     },
     "output_type": "display_data"
    }
   ],
   "source": [
    "visualize_ep(\"x4+x4x5+x4x6+x5x7+x6x7\")"
   ]
  },
  {
   "cell_type": "code",
   "execution_count": 17,
   "id": "1eba4bc9",
   "metadata": {},
   "outputs": [
    {
     "data": {
      "image/png": "[encoded data removed]",
      "text/plain": [
       "<Figure size 1440x648 with 1 Axes>"
      ]
     },
     "metadata": {
      "needs_background": "light"
     },
     "output_type": "display_data"
    }
   ],
   "source": [
    "visualize_ep(\"x4x5+x5x6+x4x7+x6x7\")"
   ]
  },
  {
   "cell_type": "code",
   "execution_count": 18,
   "id": "a17078fa",
   "metadata": {},
   "outputs": [
    {
     "data": {
      "image/png": "[encoded data removed]",
      "text/plain": [
       "<Figure size 1440x648 with 1 Axes>"
      ]
     },
     "metadata": {
      "needs_background": "light"
     },
     "output_type": "display_data"
    }
   ],
   "source": [
    "visualize_ep(\"x4+x4x5+x5x6+x4x7+x6x7\")"
   ]
  },
  {
   "cell_type": "code",
   "execution_count": 40,
   "id": "35202024",
   "metadata": {},
   "outputs": [
    {
     "name": "stdout",
     "output_type": "stream",
     "text": [
      "x4+x4x5x6+x5x6x7\t\n",
      "x4\t\n",
      "x4x5+x4x6+x5x7+x6x7\t\n",
      "x4+x4x5+x4x6+x5x7+x6x7\t\n",
      "x4\t\n",
      "x4x5+x5x6+x4x7+x6x7\t\n",
      "x4+x4x5+x5x6+x4x7+x6x7\t\n",
      "x4\t\n",
      "x4x6+x5x6+x4x7+x5x7\t\n",
      "x4+x4x6+x5x6+x4x7+x5x7\n"
     ]
    },
    {
     "data": {
      "image/png": "[encoded data removed]",
      "text/plain": [
       "<Figure size 1440x648 with 1 Axes>"
      ]
     },
     "metadata": {
      "needs_background": "light"
     },
     "output_type": "display_data"
    }
   ],
   "source": [
    "visualize_grp([\n",
    "    #\"x4x5x6+x5x6x7\",\n",
    "    \"x4+x4x5x6+x5x6x7\",\n",
    "    \"x4\",\n",
    "    \"x4x5+x4x6+x5x7+x6x7\",\n",
    "    \"x4+x4x5+x4x6+x5x7+x6x7\",\n",
    "    \"x4\",\n",
    "    \"x4x5+x5x6+x4x7+x6x7\",\n",
    "    \"x4+x4x5+x5x6+x4x7+x6x7\",\n",
    "    \"x4\",\n",
    "    \"x4x6+x5x6+x4x7+x5x7\",\n",
    "    \"x4+x4x6+x5x6+x4x7+x5x7\",\n",
    "])"
   ]
  },
  {
   "cell_type": "code",
   "execution_count": 27,
   "id": "71305dd2",
   "metadata": {},
   "outputs": [
    {
     "name": "stdout",
     "output_type": "stream",
     "text": [
      "x4+x4x5+x4x6+x5x7+x6x7\t\n",
      "x5+x4x6+x5x6+x4x7+x5x7\t\n",
      "x6+x4x5+x4x6+x5x7+x6x7\t\n",
      "x7+x4x6+x5x6+x4x7+x5x7\n"
     ]
    },
    {
     "data": {
      "image/png": "[encoded data removed]",
      "text/plain": [
       "<Figure size 1440x648 with 1 Axes>"
      ]
     },
     "metadata": {
      "needs_background": "light"
     },
     "output_type": "display_data"
    }
   ],
   "source": [
    "visualize_grp([\n",
    "    \"x4+x4x5+x4x6+x5x7+x6x7\",\n",
    "    #\"x4x5+x5x6+x4x7+x6x7\",\n",
    "    \"x5+x4x6+x5x6+x4x7+x5x7\",\n",
    "    \"x6+x4x5+x4x6+x5x7+x6x7\",\n",
    "    \"x7+x4x6+x5x6+x4x7+x5x7\",\n",
    "])"
   ]
  },
  {
   "cell_type": "code",
   "execution_count": 28,
   "id": "b417067e",
   "metadata": {},
   "outputs": [
    {
     "name": "stdout",
     "output_type": "stream",
     "text": [
      "x4+x4x5+x5x6+x4x7+x6x7\t\n",
      "x5+x4x6+x5x6+x4x7+x5x7\t\n",
      "x6+x4x5+x5x6+x4x7+x6x7\t\n",
      "x7+x4x6+x5x6+x4x7+x5x7\n"
     ]
    },
    {
     "data": {
      "image/png": "[encoded data removed]",
      "text/plain": [
       "<Figure size 1440x648 with 1 Axes>"
      ]
     },
     "metadata": {
      "needs_background": "light"
     },
     "output_type": "display_data"
    }
   ],
   "source": [
    "visualize_grp([\n",
    "    #\"x4+x4x5+x4x6+x5x7+x6x7\",\n",
    "    \"x4+x4x5+x5x6+x4x7+x6x7\",\n",
    "    \"x5+x4x6+x5x6+x4x7+x5x7\",\n",
    "    \"x6+x4x5+x5x6+x4x7+x6x7\",\n",
    "    \"x7+x4x6+x5x6+x4x7+x5x7\",\n",
    "])"
   ]
  },
  {
   "cell_type": "code",
   "execution_count": 38,
   "id": "335719d4",
   "metadata": {
    "scrolled": false
   },
   "outputs": [
    {
     "name": "stdout",
     "output_type": "stream",
     "text": [
      "x4+x0x1+x0x2+x1x3+x2x3+x4x5+x4x6+x5x7+x6x7+x4x5x6+x5x6x7\t\n",
      "x5+x0x2+x1x2+x0x3+x1x3+x4x5+x4x6+x5x7+x6x7+x4x6x7+x5x6x7\t\n",
      "x6+x0x1+x0x2+x1x3+x2x3+x4x5+x4x6+x5x7+x6x7+x4x5x7+x4x6x7\t\n",
      "x7+x0x2+x1x2+x0x3+x1x3+x4x5+x4x6+x5x7+x6x7+x4x5x6+x4x5x7\t\n",
      "x0+x4+x0x1+x0x2+x1x3+x2x3+x4x6+x5x6+x4x7+x5x7+x0x2x3+x1x2x3\t\n",
      "x1+x5+x0x1+x0x2+x1x3+x2x3+x4x5+x4x6+x5x7+x6x7+x0x1x3+x0x2x3\t\n",
      "x2+x6+x0x1+x0x2+x1x3+x2x3+x4x6+x5x6+x4x7+x5x7+x0x1x2+x0x1x3\t\n",
      "x3+x7+x0x1+x0x2+x1x3+x2x3+x4x5+x4x6+x5x7+x6x7+x0x1x2+x1x2x3\n"
     ]
    },
    {
     "data": {
      "image/png": "[encoded data removed]",
      "text/plain": [
       "<Figure size 1440x648 with 1 Axes>"
      ]
     },
     "metadata": {
      "needs_background": "light"
     },
     "output_type": "display_data"
    },
    {
     "name": "stdout",
     "output_type": "stream",
     "text": [
      "x4+x0x1+x0x2+x1x3+x2x3+x4x5+x5x6+x4x7+x6x7+x4x5x6+x5x6x7\t\n",
      "x5+x0x2+x1x2+x0x3+x1x3+x4x5+x5x6+x4x7+x6x7+x4x6x7+x5x6x7\t\n",
      "x6+x0x1+x0x2+x1x3+x2x3+x4x5+x5x6+x4x7+x6x7+x4x5x7+x4x6x7\t\n",
      "x7+x0x2+x1x2+x0x3+x1x3+x4x5+x5x6+x4x7+x6x7+x4x5x6+x4x5x7\t\n",
      "x0+x4+x0x1+x1x2+x0x3+x2x3+x4x6+x5x6+x4x7+x5x7+x0x2x3+x1x2x3\t\n",
      "x1+x5+x0x1+x1x2+x0x3+x2x3+x4x5+x4x6+x5x7+x6x7+x0x1x3+x0x2x3\t\n",
      "x2+x6+x0x1+x1x2+x0x3+x2x3+x4x6+x5x6+x4x7+x5x7+x0x1x2+x0x1x3\t\n",
      "x3+x7+x0x1+x1x2+x0x3+x2x3+x4x5+x4x6+x5x7+x6x7+x0x1x2+x1x2x3\n"
     ]
    },
    {
     "data": {
      "image/png": "[encoded data removed]",
      "text/plain": [
       "<Figure size 1440x648 with 1 Axes>"
      ]
     },
     "metadata": {
      "needs_background": "light"
     },
     "output_type": "display_data"
    },
    {
     "name": "stdout",
     "output_type": "stream",
     "text": [
      "x4+x0x1+x0x2+x1x3+x2x3+x4x6+x5x6+x4x7+x5x7+x4x5x6+x5x6x7\t\n",
      "x5+x0x2+x1x2+x0x3+x1x3+x4x6+x5x6+x4x7+x5x7+x4x6x7+x5x6x7\t\n",
      "x6+x0x1+x0x2+x1x3+x2x3+x4x6+x5x6+x4x7+x5x7+x4x5x7+x4x6x7\t\n",
      "x7+x0x2+x1x2+x0x3+x1x3+x4x6+x5x6+x4x7+x5x7+x4x5x6+x4x5x7\t\n",
      "x0+x4+x0x2+x1x2+x0x3+x1x3+x4x6+x5x6+x4x7+x5x7+x0x2x3+x1x2x3\t\n",
      "x1+x5+x0x2+x1x2+x0x3+x1x3+x4x5+x4x6+x5x7+x6x7+x0x1x3+x0x2x3\t\n",
      "x2+x6+x0x2+x1x2+x0x3+x1x3+x4x6+x5x6+x4x7+x5x7+x0x1x2+x0x1x3\t\n",
      "x3+x7+x0x2+x1x2+x0x3+x1x3+x4x5+x4x6+x5x7+x6x7+x0x1x2+x1x2x3\n"
     ]
    },
    {
     "data": {
      "image/png": "[encoded data removed]",
      "text/plain": [
       "<Figure size 1440x648 with 1 Axes>"
      ]
     },
     "metadata": {
      "needs_background": "light"
     },
     "output_type": "display_data"
    },
    {
     "name": "stdout",
     "output_type": "stream",
     "text": [
      "x4+x0x2+x1x2+x0x3+x1x3+x4x5+x4x6+x5x7+x6x7+x4x5x6+x5x6x7\t\n",
      "x5+x0x1+x0x2+x1x3+x2x3+x4x6+x5x6+x4x7+x5x7+x4x6x7+x5x6x7\t\n",
      "x6+x0x2+x1x2+x0x3+x1x3+x4x5+x4x6+x5x7+x6x7+x4x5x7+x4x6x7\t\n",
      "x7+x0x1+x0x2+x1x3+x2x3+x4x6+x5x6+x4x7+x5x7+x4x5x6+x4x5x7\t\n",
      "x0+x4+x0x2+x1x2+x0x3+x1x3+x4x5+x4x6+x5x7+x6x7+x0x2x3+x1x2x3\t\n",
      "x1+x5+x0x1+x0x2+x1x3+x2x3+x4x6+x5x6+x4x7+x5x7+x0x1x3+x0x2x3\t\n",
      "x2+x6+x0x2+x1x2+x0x3+x1x3+x4x5+x4x6+x5x7+x6x7+x0x1x2+x0x1x3\t\n",
      "x3+x7+x0x1+x0x2+x1x3+x2x3+x4x6+x5x6+x4x7+x5x7+x0x1x2+x1x2x3\n"
     ]
    },
    {
     "data": {
      "image/png": "[encoded data removed]",
      "text/plain": [
       "<Figure size 1440x648 with 1 Axes>"
      ]
     },
     "metadata": {
      "needs_background": "light"
     },
     "output_type": "display_data"
    },
    {
     "name": "stdout",
     "output_type": "stream",
     "text": [
      "x4+x0x2+x1x2+x0x3+x1x3+x4x6+x5x6+x4x7+x5x7+x4x5x6+x5x6x7\t\n",
      "x5+x0x1+x0x2+x1x3+x2x3+x4x5+x4x6+x5x7+x6x7+x4x6x7+x5x6x7\t\n",
      "x6+x0x2+x1x2+x0x3+x1x3+x4x6+x5x6+x4x7+x5x7+x4x5x7+x4x6x7\t\n",
      "x7+x0x1+x0x2+x1x3+x2x3+x4x5+x4x6+x5x7+x6x7+x4x5x6+x4x5x7\t\n",
      "x0+x4+x0x1+x0x2+x1x3+x2x3+x4x5+x4x6+x5x7+x6x7+x0x2x3+x1x2x3\t\n",
      "x1+x5+x0x2+x1x2+x0x3+x1x3+x4x6+x5x6+x4x7+x5x7+x0x1x3+x0x2x3\t\n",
      "x2+x6+x0x1+x0x2+x1x3+x2x3+x4x5+x4x6+x5x7+x6x7+x0x1x2+x0x1x3\t\n",
      "x3+x7+x0x2+x1x2+x0x3+x1x3+x4x6+x5x6+x4x7+x5x7+x0x1x2+x1x2x3\n"
     ]
    },
    {
     "data": {
      "image/png": "[encoded data removed]",
      "text/plain": [
       "<Figure size 1440x648 with 1 Axes>"
      ]
     },
     "metadata": {
      "needs_background": "light"
     },
     "output_type": "display_data"
    }
   ],
   "source": [
    "for g in list_grps:\n",
    "    visualize_grp(g)"
   ]
  }
 ],
 "metadata": {
  "kernelspec": {
   "display_name": "Python 3",
   "language": "python",
   "name": "python3"
  },
  "language_info": {
   "codemirror_mode": {
    "name": "ipython",
    "version": 3
   },
   "file_extension": ".py",
   "mimetype": "text/x-python",
   "name": "python",
   "nbconvert_exporter": "python",
   "pygments_lexer": "ipython3",
   "version": "3.9.6"
  }
 },
 "nbformat": 4,
 "nbformat_minor": 5
}
